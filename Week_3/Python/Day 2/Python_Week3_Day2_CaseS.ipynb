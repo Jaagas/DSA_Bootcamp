{
 "cells": [
  {
   "cell_type": "markdown",
   "id": "ad0082ec",
   "metadata": {},
   "source": [
    "# 1. Create Car Class that has 3 class attributes: year, mpg and speed."
   ]
  },
  {
   "cell_type": "code",
   "execution_count": 1,
   "id": "cd0d3dc7",
   "metadata": {},
   "outputs": [],
   "source": [
    "class car:\n",
    "    \n",
    "    # attributes\n",
    "        year = 2020     # car model's year\n",
    "        mpg =  35       # mileage\n",
    "        speed = 120     # current speed"
   ]
  },
  {
   "cell_type": "markdown",
   "id": "0f74218d",
   "metadata": {},
   "source": [
    "# 2. Create 2 methods for the Car class:\n",
    "Accelerate and break where the speed of the car changes when this methods are called."
   ]
  },
  {
   "cell_type": "code",
   "execution_count": 15,
   "id": "6c24dfbd",
   "metadata": {},
   "outputs": [
    {
     "name": "stdout",
     "output_type": "stream",
     "text": [
      "2015 45 150\n"
     ]
    },
    {
     "data": {
      "text/plain": [
       "165"
      ]
     },
     "execution_count": 15,
     "metadata": {},
     "output_type": "execute_result"
    }
   ],
   "source": [
    "class Car():\n",
    "\n",
    "    def __init__(self, year, mpg, speed):\n",
    "        self.year = year\n",
    "        self.mpg = mpg\n",
    "        self.speed = speed\n",
    "    def accelerate(self):\n",
    "        return self.speed + 15\n",
    "\n",
    "    def brake(self):\n",
    "        return self.speed - 30\n",
    "car2= Car(2015,45,150)\n",
    "print(car2.year,car2.mpg,car2.speed)\n",
    "car2.accelerate()\n",
    "   "
   ]
  },
  {
   "cell_type": "markdown",
   "id": "cdec9665",
   "metadata": {},
   "source": [
    "# 3. Change all class attributes to instance attributes."
   ]
  },
  {
   "cell_type": "code",
   "execution_count": 11,
   "id": "faeb75f6",
   "metadata": {},
   "outputs": [],
   "source": [
    "class Car:\n",
    "    # attributes\n",
    "        year = 2020     # car model's year\n",
    "        mpg =  35       # mileage\n",
    "        speed = 120     # current speed\n",
    "def __init__(self, year, mpg, speed):\n",
    "        self.year = year\n",
    "        self.mpg = mpg\n",
    "        self.speed = speed\n",
    "car1=Car()\n"
   ]
  },
  {
   "cell_type": "markdown",
   "id": "91d80aac",
   "metadata": {},
   "source": [
    "# 4. Create a class vehicle and create inheritance between car and vehicle."
   ]
  },
  {
   "cell_type": "code",
   "execution_count": 35,
   "id": "78c9d8aa",
   "metadata": {},
   "outputs": [
    {
     "name": "stdout",
     "output_type": "stream",
     "text": [
      "Vehicle year: 2015 Speed: 250 Mileage: 55\n"
     ]
    }
   ],
   "source": [
    "class Vehicle:\n",
    "\n",
    "    def __init__(self, year,mpg,speed):\n",
    "        self.year=year\n",
    "        self.mpg=mpg\n",
    "        self.speed=speed\n",
    "\n",
    "class Car(Vehicle):\n",
    "    pass\n",
    "\n",
    "first_car=Car(2015,55,250)\n",
    "print(\"Vehicle year:\", first_car.year, \"Speed:\", first_car.speed, \"Mileage:\", first_car.mpg)"
   ]
  },
  {
   "cell_type": "markdown",
   "id": "d8fc2c8f",
   "metadata": {},
   "source": [
    "# 5. Create a new class bus which has the same methods as car and inherits from Vehicle."
   ]
  },
  {
   "cell_type": "code",
   "execution_count": 38,
   "id": "5cf834a2",
   "metadata": {},
   "outputs": [
    {
     "name": "stdout",
     "output_type": "stream",
     "text": [
      "2015 45 150\n"
     ]
    },
    {
     "data": {
      "text/plain": [
       "165"
      ]
     },
     "execution_count": 38,
     "metadata": {},
     "output_type": "execute_result"
    }
   ],
   "source": [
    "class Vehicle:\n",
    "    def __init__(self, year , mpg , speed ):\n",
    "        self.year = year\n",
    "        self.mpg = mpg\n",
    "        self.speed = speed   \n",
    "    def accelerate(self):\n",
    "        return self.speed + 15\n",
    "    def brake(self):\n",
    "        return self.speed - 30\n",
    "    \n",
    "class Car(Vehicle):\n",
    "\n",
    "    def __init__(self, year, mpg, speed):\n",
    "        self.year = year\n",
    "        self.mpg = mpg\n",
    "        self.speed = speed\n",
    "class Bus(Vehicle):\n",
    "    pass\n",
    "\n",
    "bus2= Bus(2015,45,150)\n",
    "print(bus2.year,bus2.mpg,bus2.speed)\n",
    "bus2.accelerate()\n",
    "\n",
    "\n",
    "        "
   ]
  },
  {
   "cell_type": "markdown",
   "id": "0b3e2e4c",
   "metadata": {},
   "source": [
    "# 6. Change some of the instance attributes to the private attributes."
   ]
  },
  {
   "cell_type": "code",
   "execution_count": 7,
   "id": "c01b0438",
   "metadata": {},
   "outputs": [],
   "source": [
    "class Car:\n",
    "    def __init__(self, year, mpg, speed):\n",
    "        self.year = year\n",
    "        self.mpg = mpg\n",
    "        self.__speed = speed\n",
    "    def call(self):\n",
    "        print('year :', self.year)\n",
    "        print('mpg :', self.mpg)\n",
    "        print('speed :', self.__speed)  #private\n",
    "    "
   ]
  }
 ],
 "metadata": {
  "kernelspec": {
   "display_name": "Python 3 (ipykernel)",
   "language": "python",
   "name": "python3"
  },
  "language_info": {
   "codemirror_mode": {
    "name": "ipython",
    "version": 3
   },
   "file_extension": ".py",
   "mimetype": "text/x-python",
   "name": "python",
   "nbconvert_exporter": "python",
   "pygments_lexer": "ipython3",
   "version": "3.9.12"
  },
  "varInspector": {
   "cols": {
    "lenName": 16,
    "lenType": 16,
    "lenVar": 40
   },
   "kernels_config": {
    "python": {
     "delete_cmd_postfix": "",
     "delete_cmd_prefix": "del ",
     "library": "var_list.py",
     "varRefreshCmd": "print(var_dic_list())"
    },
    "r": {
     "delete_cmd_postfix": ") ",
     "delete_cmd_prefix": "rm(",
     "library": "var_list.r",
     "varRefreshCmd": "cat(var_dic_list()) "
    }
   },
   "types_to_exclude": [
    "module",
    "function",
    "builtin_function_or_method",
    "instance",
    "_Feature"
   ],
   "window_display": false
  }
 },
 "nbformat": 4,
 "nbformat_minor": 5
}
