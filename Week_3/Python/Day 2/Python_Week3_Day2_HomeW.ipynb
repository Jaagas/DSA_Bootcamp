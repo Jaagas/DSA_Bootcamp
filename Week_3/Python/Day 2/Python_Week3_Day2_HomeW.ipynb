{
 "cells": [
  {
   "cell_type": "markdown",
   "id": "e748c408",
   "metadata": {},
   "source": [
    "# 1 Create a Vehicle class with maxspeed and color instance attributes."
   ]
  },
  {
   "cell_type": "code",
   "execution_count": 1,
   "id": "2ec778c7",
   "metadata": {},
   "outputs": [],
   "source": [
    "\n",
    "class Vehicle:\n",
    "    \n",
    "\n",
    "    def __init__(self, max_speed, color):\n",
    "        self.max_speed = max_speed\n",
    "        self.color = color"
   ]
  },
  {
   "cell_type": "markdown",
   "id": "089fae6b",
   "metadata": {},
   "source": [
    "# 2. Create new method which prints maxspeed and the color for the given vehicle."
   ]
  },
  {
   "cell_type": "code",
   "execution_count": 99,
   "id": "25b5e877",
   "metadata": {},
   "outputs": [
    {
     "name": "stdout",
     "output_type": "stream",
     "text": [
      "MAx speed is -  280\n",
      "Color is -  black\n"
     ]
    }
   ],
   "source": [
    "\n",
    "class Vehicle:\n",
    "\n",
    "    def __init__(self, max_speed, color):\n",
    "        self.max_speed = max_speed\n",
    "        self.color = color\n",
    "    def printspeedandcolor(self,max_speed,color):\n",
    "        self.max_speed= max_speed\n",
    "        self.color = color\n",
    "        \n",
    "\n",
    "car2 = Vehicle(280,'black')\n",
    "print('MAx speed is - ', car2.max_speed)\n",
    "print('Color is - ', car2.color)"
   ]
  },
  {
   "cell_type": "markdown",
   "id": "82165b90",
   "metadata": {},
   "source": [
    "# 3. Create child class Car that will inherit all of the variables and methods of the Vehicle class."
   ]
  },
  {
   "cell_type": "code",
   "execution_count": 84,
   "id": "44b64180",
   "metadata": {},
   "outputs": [],
   "source": [
    "\n",
    "class Vehicle:\n",
    "\n",
    "    def __init__(self, max_speed, color):\n",
    "        self.max_speed = max_speed\n",
    "        self.color = color\n",
    "    def get_maxspeed(self):\n",
    "        return 'Max speed is-{}'.format(self.max_speed)\n",
    "    def get_color(self):\n",
    "        return 'The color is - {}'.format(self.color)\n",
    "class Car(Vehicle):\n",
    "    def __init__(self,max_speed, color,brand):\n",
    "        self.max_speed = max_speed\n",
    "        self.color = color\n",
    "        self.brand = brand\n",
    "        \n",
    "    def get_brand(self):\n",
    "        return 'The brand is - {}'.format(self.brand)"
   ]
  },
  {
   "cell_type": "code",
   "execution_count": 85,
   "id": "5d1834b7",
   "metadata": {},
   "outputs": [],
   "source": [
    "car1 = Car(280,'black','bmw')"
   ]
  },
  {
   "cell_type": "code",
   "execution_count": 86,
   "id": "4596893d",
   "metadata": {},
   "outputs": [
    {
     "data": {
      "text/plain": [
       "'The brand is - bmw'"
      ]
     },
     "execution_count": 86,
     "metadata": {},
     "output_type": "execute_result"
    }
   ],
   "source": [
    "car1.get_brand()"
   ]
  },
  {
   "cell_type": "code",
   "execution_count": 87,
   "id": "d26b15ba",
   "metadata": {},
   "outputs": [
    {
     "data": {
      "text/plain": [
       "'The color is - black'"
      ]
     },
     "execution_count": 87,
     "metadata": {},
     "output_type": "execute_result"
    }
   ],
   "source": [
    "car1.get_color()"
   ]
  },
  {
   "cell_type": "code",
   "execution_count": 88,
   "id": "504b2b1d",
   "metadata": {
    "scrolled": true
   },
   "outputs": [
    {
     "data": {
      "text/plain": [
       "'Max speed is-280'"
      ]
     },
     "execution_count": 88,
     "metadata": {},
     "output_type": "execute_result"
    }
   ],
   "source": [
    "car1.get_maxspeed()"
   ]
  },
  {
   "cell_type": "markdown",
   "id": "062cbd60",
   "metadata": {},
   "source": [
    "# 4. Define property that should have the same value for every class instance.\n",
    "Example : Every Vehicle should be white."
   ]
  },
  {
   "cell_type": "code",
   "execution_count": 116,
   "id": "2598cd85",
   "metadata": {},
   "outputs": [],
   "source": [
    "\n",
    "class Vehicle:\n",
    "    country  = 'Made in Germany'\n",
    "\n",
    "    def __init__(self, max_speed, color):\n",
    "        self.max_speed = max_speed\n",
    "        self.color = color\n",
    "    def get_maxspeed(self):\n",
    "         return 'Max speed is-{}'.format(self.max_speed)\n",
    "    def get_color(self):\n",
    "        return 'The color is - {}'.format(self.color)\n",
    "class Car(Vehicle):\n",
    "    def __init__(self,max_speed, color,brand):\n",
    "        self.max_speed = max_speed\n",
    "        self.color = color\n",
    "        self.brand = brand\n",
    "        \n",
    "    def get_brand(self):\n",
    "        return 'The brand is - {}'.format(self.brand)"
   ]
  },
  {
   "cell_type": "code",
   "execution_count": 122,
   "id": "f7f3c430",
   "metadata": {},
   "outputs": [],
   "source": [
    "car1 = Car(280,'black','bmw')"
   ]
  },
  {
   "cell_type": "code",
   "execution_count": 123,
   "id": "df912f10",
   "metadata": {
    "scrolled": true
   },
   "outputs": [
    {
     "data": {
      "text/plain": [
       "'Made in Germany'"
      ]
     },
     "execution_count": 123,
     "metadata": {},
     "output_type": "execute_result"
    }
   ],
   "source": [
    "car1.country"
   ]
  },
  {
   "cell_type": "markdown",
   "id": "c90c792b",
   "metadata": {},
   "source": [
    "# 5. Create a Train child class that inherits from the Vehicle class. The default fare of any vehicle is seating capacity * 35. If Vehicle is Train instance,we need to add an extra 10% on full fare as a maintenance charge."
   ]
  },
  {
   "cell_type": "code",
   "execution_count": 130,
   "id": "d3457099",
   "metadata": {},
   "outputs": [
    {
     "data": {
      "text/plain": [
       "5810.1"
      ]
     },
     "execution_count": 130,
     "metadata": {},
     "output_type": "execute_result"
    }
   ],
   "source": [
    "class Vehicle:\n",
    "    country  = 'Made in Germany'\n",
    "\n",
    "    def __init__(self, max_speed, color, capacity):\n",
    "        self.max_speed = max_speed\n",
    "        self.color = color\n",
    "        self.capacity = capacity\n",
    "    def fare(self):\n",
    "        return self.capacity * 35\n",
    "class Train(Vehicle):\n",
    "    def fare(self):\n",
    "        amount =super().fare()\n",
    "        amount += amount + 10/100\n",
    "        return amount\n",
    "    \n",
    "     \n",
    "tr1 = Train( 280 ,'RED',83)\n",
    "tr1.fare()"
   ]
  },
  {
   "cell_type": "markdown",
   "id": "5064cc69",
   "metadata": {},
   "source": [
    "# 6. Determine which class a given car and train object belongs to"
   ]
  },
  {
   "cell_type": "code",
   "execution_count": 138,
   "id": "12a2792e",
   "metadata": {},
   "outputs": [
    {
     "name": "stdout",
     "output_type": "stream",
     "text": [
      "<class '__main__.Train'> <class '__main__.Car'>\n"
     ]
    }
   ],
   "source": [
    "\n",
    "class Vehicle:\n",
    "    country  = 'Made in Germany'\n",
    "\n",
    "    def __init__(self, max_speed, color,capacity):\n",
    "        self.max_speed = max_speed\n",
    "        self.color = color\n",
    "        self.capacity = capacity\n",
    "    def fare(self):\n",
    "        return self.capacity * 35\n",
    "    def get_maxspeed(self):\n",
    "         return 'Max speed is-{}'.format(self.max_speed)\n",
    "    def get_color(self):\n",
    "        return 'The color is - {}'.format(self.color)\n",
    "class Car(Vehicle):\n",
    "    def __init__(self,max_speed, color,brand):\n",
    "        self.max_speed = max_speed\n",
    "        self.color = color\n",
    "        self.brand = brand\n",
    "        \n",
    "    def get_brand(self):\n",
    "        return 'The brand is - {}'.format(self.brand)\n",
    "class Train(Vehicle):\n",
    "    def fare(self):\n",
    "        amount =super().fare()\n",
    "        amount += amount + 10/100\n",
    "        return amount\n",
    "    \n",
    "tr1 = Train( 280 ,'RED',83)\n",
    "car1 = Car(280,'black','bmw')\n",
    "\n",
    "\n",
    "print(type(tr1),type(car1))"
   ]
  }
 ],
 "metadata": {
  "kernelspec": {
   "display_name": "Python 3 (ipykernel)",
   "language": "python",
   "name": "python3"
  },
  "language_info": {
   "codemirror_mode": {
    "name": "ipython",
    "version": 3
   },
   "file_extension": ".py",
   "mimetype": "text/x-python",
   "name": "python",
   "nbconvert_exporter": "python",
   "pygments_lexer": "ipython3",
   "version": "3.9.12"
  },
  "varInspector": {
   "cols": {
    "lenName": 16,
    "lenType": 16,
    "lenVar": 40
   },
   "kernels_config": {
    "python": {
     "delete_cmd_postfix": "",
     "delete_cmd_prefix": "del ",
     "library": "var_list.py",
     "varRefreshCmd": "print(var_dic_list())"
    },
    "r": {
     "delete_cmd_postfix": ") ",
     "delete_cmd_prefix": "rm(",
     "library": "var_list.r",
     "varRefreshCmd": "cat(var_dic_list()) "
    }
   },
   "types_to_exclude": [
    "module",
    "function",
    "builtin_function_or_method",
    "instance",
    "_Feature"
   ],
   "window_display": false
  }
 },
 "nbformat": 4,
 "nbformat_minor": 5
}
