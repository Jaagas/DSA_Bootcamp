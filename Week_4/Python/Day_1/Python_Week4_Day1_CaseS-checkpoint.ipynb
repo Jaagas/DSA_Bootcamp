{
 "cells": [
  {
   "cell_type": "code",
   "execution_count": 28,
   "id": "f8505c41",
   "metadata": {},
   "outputs": [],
   "source": [
    "import requests\n",
    "from bs4 import BeautifulSoup\n",
    "import pandas as pd"
   ]
  },
  {
   "cell_type": "code",
   "execution_count": 29,
   "id": "eb1ed5b3",
   "metadata": {},
   "outputs": [
    {
     "data": {
      "text/plain": [
       "<Response [200]>"
      ]
     },
     "execution_count": 29,
     "metadata": {},
     "output_type": "execute_result"
    }
   ],
   "source": [
    "url= 'https://www.reddit.com/r/gameofthrones/'\n",
    "headers = {'User-Agent': 'Chrome/90.0.4430.93'}\n",
    "page = requests.get(url,headers=headers)\n",
    "soup=BeautifulSoup(page.text,'html.parser')\n",
    "page"
   ]
  },
  {
   "cell_type": "code",
   "execution_count": 30,
   "id": "75136d4d",
   "metadata": {},
   "outputs": [
    {
     "data": {
      "text/plain": [
       "[<a class=\"SQnoC3ObvgnGjWt90zD9Z _2INHSNB8V5eaWp4P0rY_mE\" data-click-id=\"body\" href=\"/r/gameofthrones/comments/xu6af8/hotd_s1e7_postepisode_discussion/\"><div class=\"_2SdHzo12ISmrC8H86TgSCp _3wqmjmv3tb_k-PROt7qFZe\" style=\"--posttitletextcolor:#000000\"><h3 class=\"_eYtD2XCVieq6emjKBH3m\">HOTD S1E7 - Post-Episode Discussion</h3></div></a>,\n",
       " <a class=\"SQnoC3ObvgnGjWt90zD9Z _2INHSNB8V5eaWp4P0rY_mE\" data-click-id=\"body\" href=\"/r/gameofthrones/comments/xundjo/hotd_s1e7_dayafter_discussion/\"><div class=\"_2SdHzo12ISmrC8H86TgSCp _3wqmjmv3tb_k-PROt7qFZe\" style=\"--posttitletextcolor:#000000\"><h3 class=\"_eYtD2XCVieq6emjKBH3m\">HOTD S1E7 Day-After Discussion</h3></div></a>,\n",
       " <a class=\"SQnoC3ObvgnGjWt90zD9Z _2INHSNB8V5eaWp4P0rY_mE\" data-click-id=\"body\" href=\"/r/gameofthrones/comments/xx0yzm/what_even_happened_to_benjen_stark_after_he_was/\"><div class=\"_2SdHzo12ISmrC8H86TgSCp _3wqmjmv3tb_k-PROt7qFZe\" style=\"--posttitletextcolor:#000000\"><h3 class=\"_eYtD2XCVieq6emjKBH3m\">What even happened to Benjen Stark after he was missing? I don't think it was ever explained</h3></div></a>,\n",
       " <a class=\"SQnoC3ObvgnGjWt90zD9Z _2INHSNB8V5eaWp4P0rY_mE\" data-click-id=\"body\" href=\"/r/gameofthrones/comments/xx46jt/in_a_trial_of_seven_which_team_would_you_rather/\"><div class=\"_2SdHzo12ISmrC8H86TgSCp _3wqmjmv3tb_k-PROt7qFZe\" style=\"--posttitletextcolor:#000000\"><h3 class=\"_eYtD2XCVieq6emjKBH3m\">In a trial of seven, which team would you rather have fighting for you? (Prime versions)</h3></div></a>,\n",
       " <a class=\"SQnoC3ObvgnGjWt90zD9Z _2INHSNB8V5eaWp4P0rY_mE\" data-click-id=\"body\" href=\"/r/gameofthrones/comments/xwe5ad/a_friend_of_mine_is_watching_got_for_the_first/\"><div class=\"_2SdHzo12ISmrC8H86TgSCp _3wqmjmv3tb_k-PROt7qFZe\" style=\"--posttitletextcolor:#000000\"><h3 class=\"_eYtD2XCVieq6emjKBH3m\">A friend of mine is watching GoT for the first time and he’s giving D&amp;D waaaay too much credit.</h3></div></a>,\n",
       " <a class=\"SQnoC3ObvgnGjWt90zD9Z _2INHSNB8V5eaWp4P0rY_mE\" data-click-id=\"body\" href=\"/r/gameofthrones/comments/xx0gvx/hotd_dragons_and_riders_after_e7/\"><div class=\"_2SdHzo12ISmrC8H86TgSCp _3wqmjmv3tb_k-PROt7qFZe\" style=\"--posttitletextcolor:#000000\"><h3 class=\"_eYtD2XCVieq6emjKBH3m\">HOTD dragons and riders after E-7</h3></div></a>,\n",
       " <a class=\"SQnoC3ObvgnGjWt90zD9Z _2INHSNB8V5eaWp4P0rY_mE\" data-click-id=\"body\" href=\"/r/gameofthrones/comments/xwo3mg/prime_video_vs_hbo_voting_time/\"><div class=\"_2SdHzo12ISmrC8H86TgSCp _3wqmjmv3tb_k-PROt7qFZe\" style=\"--posttitletextcolor:#000000\"><h3 class=\"_eYtD2XCVieq6emjKBH3m\">prime video vs HBO, voting time</h3></div></a>]"
      ]
     },
     "execution_count": 30,
     "metadata": {},
     "output_type": "execute_result"
    }
   ],
   "source": [
    "soup=soup.find_all('a',class_='SQnoC3ObvgnGjWt90zD9Z _2INHSNB8V5eaWp4P0rY_mE')\n",
    "soup"
   ]
  },
  {
   "cell_type": "code",
   "execution_count": null,
   "id": "1956ba40",
   "metadata": {},
   "outputs": [],
   "source": []
  }
 ],
 "metadata": {
  "kernelspec": {
   "display_name": "Python 3 (ipykernel)",
   "language": "python",
   "name": "python3"
  },
  "language_info": {
   "codemirror_mode": {
    "name": "ipython",
    "version": 3
   },
   "file_extension": ".py",
   "mimetype": "text/x-python",
   "name": "python",
   "nbconvert_exporter": "python",
   "pygments_lexer": "ipython3",
   "version": "3.9.12"
  },
  "varInspector": {
   "cols": {
    "lenName": 16,
    "lenType": 16,
    "lenVar": 40
   },
   "kernels_config": {
    "python": {
     "delete_cmd_postfix": "",
     "delete_cmd_prefix": "del ",
     "library": "var_list.py",
     "varRefreshCmd": "print(var_dic_list())"
    },
    "r": {
     "delete_cmd_postfix": ") ",
     "delete_cmd_prefix": "rm(",
     "library": "var_list.r",
     "varRefreshCmd": "cat(var_dic_list()) "
    }
   },
   "types_to_exclude": [
    "module",
    "function",
    "builtin_function_or_method",
    "instance",
    "_Feature"
   ],
   "window_display": false
  }
 },
 "nbformat": 4,
 "nbformat_minor": 5
}
