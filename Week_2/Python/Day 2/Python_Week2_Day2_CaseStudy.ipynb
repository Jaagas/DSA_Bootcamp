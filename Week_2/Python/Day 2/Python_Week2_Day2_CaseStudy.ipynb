{
 "cells": [
  {
   "cell_type": "code",
   "execution_count": 37,
   "id": "91755637",
   "metadata": {},
   "outputs": [],
   "source": [
    "import numpy as np\n"
   ]
  },
  {
   "cell_type": "code",
   "execution_count": 38,
   "id": "623a1518",
   "metadata": {},
   "outputs": [
    {
     "data": {
      "text/plain": [
       "array([0.        , 0.05263158, 0.10526316, 0.15789474, 0.21052632,\n",
       "       0.26315789, 0.31578947, 0.36842105, 0.42105263, 0.47368421,\n",
       "       0.52631579, 0.57894737, 0.63157895, 0.68421053, 0.73684211,\n",
       "       0.78947368, 0.84210526, 0.89473684, 0.94736842, 1.        ])"
      ]
     },
     "execution_count": 38,
     "metadata": {},
     "output_type": "execute_result"
    }
   ],
   "source": [
    "## create an array of 20 linearly spaced points between 0 and 1.\n",
    "np.linspace(0, 1, 20)"
   ]
  },
  {
   "cell_type": "code",
   "execution_count": 39,
   "id": "15a808e8",
   "metadata": {},
   "outputs": [
    {
     "data": {
      "text/plain": [
       "array([55, 60, 65, 70, 75])"
      ]
     },
     "execution_count": 39,
     "metadata": {},
     "output_type": "execute_result"
    }
   ],
   "source": [
    "## 2) Create a 5x5 matrix from 1 to 25 and sum the columns' number\n",
    "x= np.arange(1,26).reshape(5,5)\n",
    "x.sum(axis=0)"
   ]
  },
  {
   "cell_type": "code",
   "execution_count": 40,
   "id": "b84359f7",
   "metadata": {
    "scrolled": true
   },
   "outputs": [
    {
     "data": {
      "text/plain": [
       "array([0.01, 0.02, 0.03, 0.04, 0.05, 0.06, 0.07, 0.08, 0.09, 0.1 , 0.11,\n",
       "       0.12, 0.13, 0.14, 0.15, 0.16, 0.17, 0.18, 0.19, 0.2 , 0.21, 0.22,\n",
       "       0.23, 0.24, 0.25, 0.26, 0.27, 0.28, 0.29, 0.3 , 0.31, 0.32, 0.33,\n",
       "       0.34, 0.35, 0.36, 0.37, 0.38, 0.39, 0.4 , 0.41, 0.42, 0.43, 0.44,\n",
       "       0.45, 0.46, 0.47, 0.48, 0.49, 0.5 , 0.51, 0.52, 0.53, 0.54, 0.55,\n",
       "       0.56, 0.57, 0.58, 0.59, 0.6 , 0.61, 0.62, 0.63, 0.64, 0.65, 0.66,\n",
       "       0.67, 0.68, 0.69, 0.7 , 0.71, 0.72, 0.73, 0.74, 0.75, 0.76, 0.77,\n",
       "       0.78, 0.79, 0.8 , 0.81, 0.82, 0.83, 0.84, 0.85, 0.86, 0.87, 0.88,\n",
       "       0.89, 0.9 , 0.91, 0.92, 0.93, 0.94, 0.95, 0.96, 0.97, 0.98, 0.99,\n",
       "       1.  ])"
      ]
     },
     "execution_count": 40,
     "metadata": {},
     "output_type": "execute_result"
    }
   ],
   "source": [
    "##3) Create the following matrix.\n",
    "x =np.arange(0.01,1.01,0.01)\n",
    "x"
   ]
  },
  {
   "cell_type": "markdown",
   "id": "fecbfcaa",
   "metadata": {},
   "source": [
    "## 4) Follow the steps:\n",
    "    A) Define a structured data type ( name - S20, Surname - S20, age-i1, mark-f4)\n",
    "    B) Create an array with the given information below in a data type created\n",
    "    (Behram Abbasov 26 85, Yusif Abdullayev 22 92, Maryam Mecidova 19 88, Vagif Hesenzade 24 79)"
   ]
  },
  {
   "cell_type": "code",
   "execution_count": 41,
   "id": "b7240a93",
   "metadata": {},
   "outputs": [
    {
     "data": {
      "text/plain": [
       "dtype([('name', 'S20'), ('surname', 'S20'), ('age', 'i1'), ('marks', '<f4')])"
      ]
     },
     "execution_count": 41,
     "metadata": {},
     "output_type": "execute_result"
    }
   ],
   "source": [
    "student = np.dtype([('name','S20'),('surname' , 'S20'),('age', 'i1'), ('marks', 'f4')]) \n",
    "student"
   ]
  },
  {
   "cell_type": "code",
   "execution_count": 42,
   "id": "742af1b2",
   "metadata": {},
   "outputs": [
    {
     "data": {
      "text/plain": [
       "array([(b'Behram', b'Abbasov', 26, 85.),\n",
       "       (b'Yusif', b'Abdullayev', 22, 92.),\n",
       "       (b'Maryam', b'Mecidova', 19, 88.),\n",
       "       (b'Vagif', b'Hesenzade', 24, 79.)],\n",
       "      dtype=[('name', 'S20'), ('surname', 'S20'), ('age', 'i1'), ('marks', '<f4')])"
      ]
     },
     "execution_count": 42,
     "metadata": {},
     "output_type": "execute_result"
    }
   ],
   "source": [
    "a = np.array([('Behram','Abbasov', 26 ,85, ),('Yusif', 'Abdullayev', 22, 92),( 'Maryam' ,'Mecidova', 19, 88),( 'Vagif', 'Hesenzade', 24, 79)], dtype = student)\n",
    "a"
   ]
  },
  {
   "cell_type": "markdown",
   "id": "a6bc0287",
   "metadata": {},
   "source": [
    "# 5 Create the following array."
   ]
  },
  {
   "cell_type": "code",
   "execution_count": 43,
   "id": "8c4e91a0",
   "metadata": {},
   "outputs": [],
   "source": [
    "a = np.array([99 ,99 ,99 ,99, 99, 99, 99, 99, 99, 99,\n",
    "99, 1, 0, 0, 0, 0, 0, 0, 0, 99,\n",
    "99, 0, 1, 1, 1, 1, 1, 1, 0, 99,\n",
    "99, 0,1,0,0,0,0,1,0,99,\n",
    "99,0, 1,0,1,1,0,1,0,99,\n",
    "99,0,1,0,1,1,0,1,0,99,\n",
    "99,0,1,0,0,0,0,1,0,99,\n",
    "99,0,1,1,1,1,1,1,0,99,\n",
    "99,0,0,0,0,0,0,0,1,99,\n",
    "99,99, 99 ,99, 99, 99, 99, 99, 99, 99])"
   ]
  },
  {
   "cell_type": "code",
   "execution_count": 44,
   "id": "3ad2929f",
   "metadata": {},
   "outputs": [
    {
     "data": {
      "text/plain": [
       "array([[99, 99, 99, 99, 99, 99, 99, 99, 99, 99],\n",
       "       [99,  1,  0,  0,  0,  0,  0,  0,  0, 99],\n",
       "       [99,  0,  1,  1,  1,  1,  1,  1,  0, 99],\n",
       "       [99,  0,  1,  0,  0,  0,  0,  1,  0, 99],\n",
       "       [99,  0,  1,  0,  1,  1,  0,  1,  0, 99],\n",
       "       [99,  0,  1,  0,  1,  1,  0,  1,  0, 99],\n",
       "       [99,  0,  1,  0,  0,  0,  0,  1,  0, 99],\n",
       "       [99,  0,  1,  1,  1,  1,  1,  1,  0, 99],\n",
       "       [99,  0,  0,  0,  0,  0,  0,  0,  1, 99],\n",
       "       [99, 99, 99, 99, 99, 99, 99, 99, 99, 99]])"
      ]
     },
     "execution_count": 44,
     "metadata": {},
     "output_type": "execute_result"
    }
   ],
   "source": [
    "a.reshape(10,10)"
   ]
  },
  {
   "cell_type": "code",
   "execution_count": null,
   "id": "fc6ad127",
   "metadata": {},
   "outputs": [],
   "source": []
  }
 ],
 "metadata": {
  "kernelspec": {
   "display_name": "Python 3 (ipykernel)",
   "language": "python",
   "name": "python3"
  },
  "language_info": {
   "codemirror_mode": {
    "name": "ipython",
    "version": 3
   },
   "file_extension": ".py",
   "mimetype": "text/x-python",
   "name": "python",
   "nbconvert_exporter": "python",
   "pygments_lexer": "ipython3",
   "version": "3.9.12"
  },
  "nbTranslate": {
   "displayLangs": [
    "*"
   ],
   "hotkey": "alt-t",
   "langInMainMenu": true,
   "sourceLang": "en",
   "targetLang": "fr",
   "useGoogleTranslate": true
  },
  "varInspector": {
   "cols": {
    "lenName": 16,
    "lenType": 16,
    "lenVar": 40
   },
   "kernels_config": {
    "python": {
     "delete_cmd_postfix": "",
     "delete_cmd_prefix": "del ",
     "library": "var_list.py",
     "varRefreshCmd": "print(var_dic_list())"
    },
    "r": {
     "delete_cmd_postfix": ") ",
     "delete_cmd_prefix": "rm(",
     "library": "var_list.r",
     "varRefreshCmd": "cat(var_dic_list()) "
    }
   },
   "types_to_exclude": [
    "module",
    "function",
    "builtin_function_or_method",
    "instance",
    "_Feature"
   ],
   "window_display": false
  }
 },
 "nbformat": 4,
 "nbformat_minor": 5
}
