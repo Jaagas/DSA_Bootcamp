{
 "cells": [
  {
   "cell_type": "code",
   "execution_count": 1,
   "id": "192efc4b",
   "metadata": {},
   "outputs": [
    {
     "data": {
      "text/plain": [
       "['what', 'are', 'you', 'doing', 'is', 'a', 'your', 'name']"
      ]
     },
     "execution_count": 1,
     "metadata": {},
     "output_type": "execute_result"
    }
   ],
   "source": [
    "import re\n",
    "string='Hy what are you doing wht is a your ww name fhzfs fh fjkshf fjsfh hghfhf fhfhf'\n",
    "pattern=r'\\w*[aıoueəiöü]\\w*'\n",
    "re.findall(pattern,string)"
   ]
  },
  {
   "cell_type": "code",
   "execution_count": 9,
   "id": "ac18fca3",
   "metadata": {},
   "outputs": [
    {
     "data": {
      "text/plain": [
       "['Hey',\n",
       " 'whatws',\n",
       " '55',\n",
       " 'war',\n",
       " 'gayouag',\n",
       " 'ww',\n",
       " 'wht',\n",
       " 'wis',\n",
       " 'your',\n",
       " 'nam',\n",
       " 'wadefhzfs',\n",
       " '66',\n",
       " 'fjsfh',\n",
       " 'hghfhf',\n",
       " 'fhfhf']"
      ]
     },
     "execution_count": 9,
     "metadata": {},
     "output_type": "execute_result"
    }
   ],
   "source": [
    "string='Hey whatwse 55 ware gayouag ww adoing wht wis your name wadefhzfse owfh 66 ifjkshf fjsfh hghfhf fhfhf'\n",
    "pattern=r'\\b[^aıoueəiöü\\s]\\w*[^aıoueəiöü\\s]'\n",
    "re.findall(pattern,string)"
   ]
  },
  {
   "cell_type": "code",
   "execution_count": 10,
   "id": "e6c195ea",
   "metadata": {},
   "outputs": [
    {
     "data": {
      "text/plain": [
       "['Hey',\n",
       " 'whatwse',\n",
       " '55',\n",
       " 'ware',\n",
       " 'gayouag',\n",
       " 'ww',\n",
       " 'wht',\n",
       " 'wis',\n",
       " 'your',\n",
       " 'name',\n",
       " 'wadefhzfse',\n",
       " '66',\n",
       " 'fjsfh',\n",
       " 'hghfhf',\n",
       " 'fhfhf']"
      ]
     },
     "execution_count": 10,
     "metadata": {},
     "output_type": "execute_result"
    }
   ],
   "source": [
    "string='Hey whatwse 55 ware gayouag ww adoing wht wis your name wadefhzfse owfh 66 ifjkshf fjsfh hghfhf fhfhf'\n",
    "pattern=r'\\b[^aıoueəiöü\\s]\\w*[^aıoueəiöü\\s]\\w*'\n",
    "re.findall(pattern,string)"
   ]
  },
  {
   "cell_type": "code",
   "execution_count": 4,
   "id": "1cd2250d",
   "metadata": {},
   "outputs": [
    {
     "data": {
      "text/plain": [
       "['55']"
      ]
     },
     "execution_count": 4,
     "metadata": {},
     "output_type": "execute_result"
    }
   ],
   "source": [
    "string='Hey whatwse 55 ware gayouag ww adoing wht wis your name wadefhzfse owfh 66 ifjkshf fjsfh hghfhf fhfhf 55'\n",
    "pattern=r'[0-9]{1,}$'\n",
    "pattern1=r'\\d+\\Z'\n",
    "re.findall(pattern1,string)"
   ]
  },
  {
   "cell_type": "code",
   "execution_count": 91,
   "id": "6c96d53b",
   "metadata": {},
   "outputs": [
    {
     "data": {
      "text/plain": [
       "['!fg?g']"
      ]
     },
     "execution_count": 91,
     "metadata": {},
     "output_type": "execute_result"
    }
   ],
   "source": [
    "string='Hey whatwse 55 ware ayoua ww adoing wht wis your name wadefhzfse owfh 66 fjkshf fjsfh hghfhf fhfhf vsd 42 !fg?g'\n",
    "pattern=r'[A-z?!]+\\Z'\n",
    "re.findall(pattern,string)"
   ]
  },
  {
   "cell_type": "code",
   "execution_count": 92,
   "id": "8c92a77d",
   "metadata": {},
   "outputs": [
    {
     "data": {
      "text/plain": [
       "['Hey',\n",
       " '55',\n",
       " 'gayouag',\n",
       " 'ww',\n",
       " 'wht',\n",
       " 'wis',\n",
       " 'your',\n",
       " '66',\n",
       " 'fjsfh',\n",
       " 'hghfhf',\n",
       " 'fhfhf']"
      ]
     },
     "execution_count": 92,
     "metadata": {},
     "output_type": "execute_result"
    }
   ],
   "source": [
    "string='Hey whatwse 55 ware gayouag ww adoing wht wis your name wadefhzfse owfh 66 ifjkshf fjsfh hghfhf fhfhf'\n",
    "pattern=r'\\b[^aıoueəiöü\\s]\\w*[^aıoueəiöü\\s]\\b'\n",
    "re.findall(pattern,string)"
   ]
  },
  {
   "cell_type": "code",
   "execution_count": 3,
   "id": "beef0930",
   "metadata": {},
   "outputs": [
    {
     "data": {
      "text/plain": [
       "['56452']"
      ]
     },
     "execution_count": 3,
     "metadata": {},
     "output_type": "execute_result"
    }
   ],
   "source": [
    "string='Hey whatwse 55 ware ayoua ww adoing wht wis your name wadefhzfse owfh 66 fjkshf fjsfh hghfhf fhfhf vsd 44 56452'\n",
    "pattern=r'\\d+\\Z'\n",
    "re.findall(pattern,string)"
   ]
  },
  {
   "cell_type": "code",
   "execution_count": 4,
   "id": "2fe53ef4",
   "metadata": {},
   "outputs": [
    {
     "data": {
      "text/plain": [
       "['!fg?g']"
      ]
     },
     "execution_count": 4,
     "metadata": {},
     "output_type": "execute_result"
    }
   ],
   "source": [
    "string='Hey whatwse 55 ware ayoua ww adoing wht wis your name wadefhzfse owfh 66 fjkshf fjsfh hghfhf fhfhf vsd 42 !fg?g'\n",
    "pattern=r'[a-zA-z?!]+\\Z'\n",
    "re.findall(pattern,string)"
   ]
  },
  {
   "cell_type": "code",
   "execution_count": 70,
   "id": "98aa1787",
   "metadata": {
    "scrolled": true
   },
   "outputs": [
    {
     "name": "stdout",
     "output_type": "stream",
     "text": [
      "Heywhat    wsewara%yno%ua%ww adoingw%ht wisyour name wade%fhz% fseowfh% fjk%s hfjsfh hgh%fhf fhfhf vsd !fg?g\n",
      "Heywhat wsewara%yno%ua%ww adoingw%ht wisyour name wade%fhz% fseowfh% fjk%s hfjsfh hgh%fhf fhfhf vsd !fg?g\n",
      "Heywhat                wsewara%yno%ua%ww    adoingw%ht    wisyour    name    wade%fhz%    fseowfh%    fjk%s    hfjsfh    hgh%fhf    fhfhf    vsd    !fg?g\n"
     ]
    }
   ],
   "source": [
    "string='Heywhat    wsewara%yno%ua%ww adoingw%ht wisyour name wade%fhz% fseowfh% fjk%s hfjsfh hgh%fhf fhfhf vsd !fg?g'\n",
    "pattern=r' '\n",
    "tab=r'    '\n",
    "a=re.sub(pattern,tab,string)\n",
    "b=re.sub(tab,pattern,string)\n",
    "print(string)\n",
    "print(b)\n",
    "print(a)"
   ]
  },
  {
   "cell_type": "code",
   "execution_count": 16,
   "id": "d100cbdb",
   "metadata": {},
   "outputs": [
    {
     "data": {
      "text/plain": [
       "['əhatwse', 'əwara', 'üüadoing', 'üwis', 'üwade', 'əfgg']"
      ]
     },
     "execution_count": 16,
     "metadata": {},
     "output_type": "execute_result"
    }
   ],
   "source": [
    "string='Hey  H w əhatwse əwara%yno%ua%ww üüadoing w%ht üwis your name üwade%fhz%fse owfh% fjk%shf fjsfh hgh%fhf fhfhf vsd əfgg'\n",
    "pattern=r'\\b[əü]\\w*'\n",
    "re.findall(pattern,string)"
   ]
  },
  {
   "cell_type": "code",
   "execution_count": 76,
   "id": "8460c9d0",
   "metadata": {},
   "outputs": [
    {
     "data": {
      "text/plain": [
       "'HeyHwəhatwsewara%yno%ua%wwüüadoingw%htüwisyournameüwade%fhz%fseowfh%fjk%shffjsfhhgh%fhffhfhfvsdəfgg'"
      ]
     },
     "execution_count": 76,
     "metadata": {},
     "output_type": "execute_result"
    }
   ],
   "source": [
    "string='Hey  H w əhatwse wara%yno%ua%ww üüadoing w%ht üwis your name üwade%fhz%fse owfh% fjk%shf fjsfh hgh%fhf fhfhf vsd əfgg'\n",
    "pattern=r'\\s'\n",
    "re.sub(pattern,'',string)"
   ]
  },
  {
   "cell_type": "code",
   "execution_count": 80,
   "id": "dea3dea6",
   "metadata": {},
   "outputs": [
    {
     "data": {
      "text/plain": [
       "['Heeee55y',\n",
       " 'Hhhhh',\n",
       " 'əhatwse',\n",
       " 'wara%yno%ua%ww',\n",
       " 'üüadoing',\n",
       " 'üwade%fhz%fse',\n",
       " 'owfh%',\n",
       " 'fjk%shf',\n",
       " 'fjsfh',\n",
       " 'hgh%fhf',\n",
       " 'fhfhf']"
      ]
     },
     "execution_count": 80,
     "metadata": {},
     "output_type": "execute_result"
    }
   ],
   "source": [
    "string='Heeee55y  Hhhhh w əhatwse wara%yno%ua%ww üüadoing w%ht üwis your name üwade%fhz%fse owfh% fjk%shf fjsfh hgh%fhf fhfhf vsd əfgg'\n",
    "pattern='\\S{5,}'\n",
    "re.findall(pattern,string)"
   ]
  },
  {
   "cell_type": "code",
   "execution_count": 88,
   "id": "23c0be85",
   "metadata": {},
   "outputs": [
    {
     "data": {
      "text/plain": [
       "'Python Programming Language'"
      ]
     },
     "execution_count": 88,
     "metadata": {},
     "output_type": "execute_result"
    }
   ],
   "source": [
    "string='PythonProgrammingLanguage'\n",
    "pattern=r'[A-Z][a-z]*'\n",
    "\n",
    "a=re.findall(pattern,string)\n",
    "' '.join(a)\n",
    "\n"
   ]
  }
 ],
 "metadata": {
  "kernelspec": {
   "display_name": "Python 3",
   "language": "python",
   "name": "python3"
  },
  "language_info": {
   "codemirror_mode": {
    "name": "ipython",
    "version": 3
   },
   "file_extension": ".py",
   "mimetype": "text/x-python",
   "name": "python",
   "nbconvert_exporter": "python",
   "pygments_lexer": "ipython3",
   "version": "3.8.8"
  }
 },
 "nbformat": 4,
 "nbformat_minor": 5
}
