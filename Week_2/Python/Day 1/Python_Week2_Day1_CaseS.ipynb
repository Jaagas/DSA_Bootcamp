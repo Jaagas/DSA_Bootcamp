{
 "cells": [
  {
   "cell_type": "code",
   "execution_count": 1,
   "id": "313580bf",
   "metadata": {},
   "outputs": [
    {
     "name": "stdout",
     "output_type": "stream",
     "text": [
      "{'Janice': '22', 'Theon': '33', 'Gabriel': '44', 'Joey': '21'}\n"
     ]
    }
   ],
   "source": [
    "import re\n",
    "Nameage = \"\\\n",
    "Janice is 22 and Theon is 33 \\\n",
    "Gabriel is 44 and Joey is 21\\\n",
    "\"\n",
    "name = re.findall(\"[A-Z]+[a-z]*\", Nameage)\n",
    "age=re.findall(\"[0-9]+\",Nameage)\n",
    "Nameagedict=dict(zip(name,age))\n",
    "print(Nameagedict)\n"
   ]
  },
  {
   "cell_type": "code",
   "execution_count": 2,
   "id": "d4b33f9c",
   "metadata": {},
   "outputs": [
    {
     "name": "stdout",
     "output_type": "stream",
     "text": [
      "['meow@gmail.com', 'agasoy900@gmail.com']\n"
     ]
    }
   ],
   "source": [
    "mail=\"Hello.com, MrMu@.com,meow@gmail.com, jamal.agasoy900@gmail.com\"\n",
    "search=re.findall(\"[A-z 0-9]{3,20}@[A-z 0-9]{2,10}.com\",mail)\n",
    "\n",
    "print(search)"
   ]
  },
  {
   "cell_type": "code",
   "execution_count": 3,
   "id": "742a825c",
   "metadata": {},
   "outputs": [
    {
     "name": "stdout",
     "output_type": "stream",
     "text": [
      "['(257) 563-7401', '(111) 222-3333']\n"
     ]
    }
   ],
   "source": [
    "example=\"(257) 563-7401, (111) 222-3333,(1) 19-39, +994 012-13-32,(396) 245 5621\"\n",
    "find=re.findall(\"[(][0-9]{3}[)]\\s[0-9]*[-][0-9]*\",example)\n",
    "\n",
    "print(find)"
   ]
  },
  {
   "cell_type": "code",
   "execution_count": null,
   "id": "3caf92e0",
   "metadata": {},
   "outputs": [],
   "source": []
  },
  {
   "cell_type": "code",
   "execution_count": null,
   "id": "26a35a64",
   "metadata": {},
   "outputs": [],
   "source": []
  }
 ],
 "metadata": {
  "kernelspec": {
   "display_name": "Python 3.9.13 ('base')",
   "language": "python",
   "name": "python3"
  },
  "language_info": {
   "codemirror_mode": {
    "name": "ipython",
    "version": 3
   },
   "file_extension": ".py",
   "mimetype": "text/x-python",
   "name": "python",
   "nbconvert_exporter": "python",
   "pygments_lexer": "ipython3",
   "version": "3.9.13"
  },
  "vscode": {
   "interpreter": {
    "hash": "71e1234ab7251dfb3845393c683628813d34015be37bbc894565df5c891c542c"
   }
  }
 },
 "nbformat": 4,
 "nbformat_minor": 5
}
